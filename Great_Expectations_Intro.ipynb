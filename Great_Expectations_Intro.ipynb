{
  "nbformat": 4,
  "nbformat_minor": 0,
  "metadata": {
    "colab": {
      "name": "Great_Expectations_Intro.ipynb",
      "provenance": [],
      "authorship_tag": "ABX9TyNqHcpQpZCWom29FSXWz+oB",
      "include_colab_link": true
    },
    "kernelspec": {
      "name": "python3",
      "display_name": "Python 3"
    },
    "language_info": {
      "name": "python"
    }
  },
  "cells": [
    {
      "cell_type": "markdown",
      "metadata": {
        "id": "view-in-github",
        "colab_type": "text"
      },
      "source": [
        "<a href=\"https://colab.research.google.com/github/rohitgupta29/python_blogs/blob/main/Great_Expectations_Intro.ipynb\" target=\"_parent\"><img src=\"https://colab.research.google.com/assets/colab-badge.svg\" alt=\"Open In Colab\"/></a>"
      ]
    },
    {
      "cell_type": "code",
      "execution_count": 25,
      "metadata": {
        "colab": {
          "base_uri": "https://localhost:8080/"
        },
        "id": "lnSqqCsNrtPV",
        "outputId": "de16b5b3-6918-4532-e294-ddfdc980ceb7"
      },
      "outputs": [
        {
          "output_type": "stream",
          "name": "stdout",
          "text": [
            "Drive already mounted at /content/drive; to attempt to forcibly remount, call drive.mount(\"/content/drive\", force_remount=True).\n"
          ]
        }
      ],
      "source": [
        "from google.colab import drive\n",
        "drive.mount('/content/drive')"
      ]
    },
    {
      "cell_type": "code",
      "source": [
        "!pip install great_expectations==0.13"
      ],
      "metadata": {
        "colab": {
          "base_uri": "https://localhost:8080/"
        },
        "id": "0U-2r9ZbrwKY",
        "outputId": "a62064ec-0918-45e7-a81d-d2f8a153092c"
      },
      "execution_count": 26,
      "outputs": [
        {
          "output_type": "stream",
          "name": "stdout",
          "text": [
            "Requirement already satisfied: great_expectations==0.13 in /usr/local/lib/python3.7/dist-packages (0.13.0)\n",
            "Requirement already satisfied: importlib-metadata>=1.7.0 in /usr/local/lib/python3.7/dist-packages (from great_expectations==0.13) (4.10.1)\n",
            "Requirement already satisfied: altair<5,>=4.0.0 in /usr/local/lib/python3.7/dist-packages (from great_expectations==0.13) (4.2.0)\n",
            "Requirement already satisfied: pyparsing<3,>=2.4 in /usr/local/lib/python3.7/dist-packages (from great_expectations==0.13) (2.4.7)\n",
            "Requirement already satisfied: ruamel.yaml>=0.16 in /usr/local/lib/python3.7/dist-packages (from great_expectations==0.13) (0.17.20)\n",
            "Requirement already satisfied: pandas>=0.23.0 in /usr/local/lib/python3.7/dist-packages (from great_expectations==0.13) (1.1.5)\n",
            "Requirement already satisfied: jinja2>=2.10 in /usr/local/lib/python3.7/dist-packages (from great_expectations==0.13) (2.11.3)\n",
            "Requirement already satisfied: Click>=7.1.2 in /usr/local/lib/python3.7/dist-packages (from great_expectations==0.13) (8.0.3)\n",
            "Requirement already satisfied: termcolor>=1.1.0 in /usr/local/lib/python3.7/dist-packages (from great_expectations==0.13) (1.1.0)\n",
            "Requirement already satisfied: requests<2.24,>=2.20 in /usr/local/lib/python3.7/dist-packages (from great_expectations==0.13) (2.23.0)\n",
            "Requirement already satisfied: jsonpatch>=1.22 in /usr/local/lib/python3.7/dist-packages (from great_expectations==0.13) (1.32)\n",
            "Requirement already satisfied: black>=19.10b0 in /usr/local/lib/python3.7/dist-packages (from great_expectations==0.13) (22.1.0)\n",
            "Requirement already satisfied: pytz>=2015.6 in /usr/local/lib/python3.7/dist-packages (from great_expectations==0.13) (2018.9)\n",
            "Requirement already satisfied: mistune>=0.8.4 in /usr/local/lib/python3.7/dist-packages (from great_expectations==0.13) (0.8.4)\n",
            "Requirement already satisfied: tzlocal>=1.2 in /usr/local/lib/python3.7/dist-packages (from great_expectations==0.13) (1.5.1)\n",
            "Requirement already satisfied: scipy>=0.19.0 in /usr/local/lib/python3.7/dist-packages (from great_expectations==0.13) (1.4.1)\n",
            "Requirement already satisfied: python-dateutil>=2.8.1 in /usr/local/lib/python3.7/dist-packages (from great_expectations==0.13) (2.8.2)\n",
            "Requirement already satisfied: ipywidgets>=7.5.1 in /usr/local/lib/python3.7/dist-packages (from great_expectations==0.13) (7.6.5)\n",
            "Requirement already satisfied: numpy>=1.14.1 in /usr/local/lib/python3.7/dist-packages (from great_expectations==0.13) (1.19.5)\n",
            "Requirement already satisfied: jsonschema>=2.5.1 in /usr/local/lib/python3.7/dist-packages (from great_expectations==0.13) (4.3.3)\n",
            "Requirement already satisfied: toolz in /usr/local/lib/python3.7/dist-packages (from altair<5,>=4.0.0->great_expectations==0.13) (0.11.2)\n",
            "Requirement already satisfied: entrypoints in /usr/local/lib/python3.7/dist-packages (from altair<5,>=4.0.0->great_expectations==0.13) (0.3)\n",
            "Requirement already satisfied: typed-ast>=1.4.2 in /usr/local/lib/python3.7/dist-packages (from black>=19.10b0->great_expectations==0.13) (1.5.2)\n",
            "Requirement already satisfied: tomli>=1.1.0 in /usr/local/lib/python3.7/dist-packages (from black>=19.10b0->great_expectations==0.13) (2.0.0)\n",
            "Requirement already satisfied: pathspec>=0.9.0 in /usr/local/lib/python3.7/dist-packages (from black>=19.10b0->great_expectations==0.13) (0.9.0)\n",
            "Requirement already satisfied: mypy-extensions>=0.4.3 in /usr/local/lib/python3.7/dist-packages (from black>=19.10b0->great_expectations==0.13) (0.4.3)\n",
            "Requirement already satisfied: platformdirs>=2 in /usr/local/lib/python3.7/dist-packages (from black>=19.10b0->great_expectations==0.13) (2.4.1)\n",
            "Requirement already satisfied: typing-extensions>=3.10.0.0 in /usr/local/lib/python3.7/dist-packages (from black>=19.10b0->great_expectations==0.13) (3.10.0.2)\n",
            "Requirement already satisfied: zipp>=0.5 in /usr/local/lib/python3.7/dist-packages (from importlib-metadata>=1.7.0->great_expectations==0.13) (3.7.0)\n",
            "Requirement already satisfied: ipython-genutils~=0.2.0 in /usr/local/lib/python3.7/dist-packages (from ipywidgets>=7.5.1->great_expectations==0.13) (0.2.0)\n",
            "Requirement already satisfied: ipykernel>=4.5.1 in /usr/local/lib/python3.7/dist-packages (from ipywidgets>=7.5.1->great_expectations==0.13) (4.10.1)\n",
            "Requirement already satisfied: jupyterlab-widgets>=1.0.0 in /usr/local/lib/python3.7/dist-packages (from ipywidgets>=7.5.1->great_expectations==0.13) (1.0.2)\n",
            "Requirement already satisfied: traitlets>=4.3.1 in /usr/local/lib/python3.7/dist-packages (from ipywidgets>=7.5.1->great_expectations==0.13) (5.1.1)\n",
            "Requirement already satisfied: widgetsnbextension~=3.5.0 in /usr/local/lib/python3.7/dist-packages (from ipywidgets>=7.5.1->great_expectations==0.13) (3.5.2)\n",
            "Requirement already satisfied: ipython>=4.0.0 in /usr/local/lib/python3.7/dist-packages (from ipywidgets>=7.5.1->great_expectations==0.13) (5.5.0)\n",
            "Requirement already satisfied: nbformat>=4.2.0 in /usr/local/lib/python3.7/dist-packages (from ipywidgets>=7.5.1->great_expectations==0.13) (5.1.3)\n",
            "Requirement already satisfied: jupyter-client in /usr/local/lib/python3.7/dist-packages (from ipykernel>=4.5.1->ipywidgets>=7.5.1->great_expectations==0.13) (5.3.5)\n",
            "Requirement already satisfied: tornado>=4.0 in /usr/local/lib/python3.7/dist-packages (from ipykernel>=4.5.1->ipywidgets>=7.5.1->great_expectations==0.13) (5.1.1)\n",
            "Requirement already satisfied: pexpect in /usr/local/lib/python3.7/dist-packages (from ipython>=4.0.0->ipywidgets>=7.5.1->great_expectations==0.13) (4.8.0)\n",
            "Requirement already satisfied: setuptools>=18.5 in /usr/local/lib/python3.7/dist-packages (from ipython>=4.0.0->ipywidgets>=7.5.1->great_expectations==0.13) (57.4.0)\n",
            "Requirement already satisfied: pickleshare in /usr/local/lib/python3.7/dist-packages (from ipython>=4.0.0->ipywidgets>=7.5.1->great_expectations==0.13) (0.7.5)\n",
            "Requirement already satisfied: pygments in /usr/local/lib/python3.7/dist-packages (from ipython>=4.0.0->ipywidgets>=7.5.1->great_expectations==0.13) (2.6.1)\n",
            "Requirement already satisfied: prompt-toolkit<2.0.0,>=1.0.4 in /usr/local/lib/python3.7/dist-packages (from ipython>=4.0.0->ipywidgets>=7.5.1->great_expectations==0.13) (1.0.18)\n",
            "Requirement already satisfied: decorator in /usr/local/lib/python3.7/dist-packages (from ipython>=4.0.0->ipywidgets>=7.5.1->great_expectations==0.13) (4.4.2)\n",
            "Requirement already satisfied: simplegeneric>0.8 in /usr/local/lib/python3.7/dist-packages (from ipython>=4.0.0->ipywidgets>=7.5.1->great_expectations==0.13) (0.8.1)\n",
            "Requirement already satisfied: MarkupSafe>=0.23 in /usr/local/lib/python3.7/dist-packages (from jinja2>=2.10->great_expectations==0.13) (2.0.1)\n",
            "Requirement already satisfied: jsonpointer>=1.9 in /usr/local/lib/python3.7/dist-packages (from jsonpatch>=1.22->great_expectations==0.13) (2.2)\n",
            "Requirement already satisfied: attrs>=17.4.0 in /usr/local/lib/python3.7/dist-packages (from jsonschema>=2.5.1->great_expectations==0.13) (21.4.0)\n",
            "Requirement already satisfied: importlib-resources>=1.4.0 in /usr/local/lib/python3.7/dist-packages (from jsonschema>=2.5.1->great_expectations==0.13) (5.4.0)\n",
            "Requirement already satisfied: pyrsistent!=0.17.0,!=0.17.1,!=0.17.2,>=0.14.0 in /usr/local/lib/python3.7/dist-packages (from jsonschema>=2.5.1->great_expectations==0.13) (0.18.1)\n",
            "Requirement already satisfied: jupyter-core in /usr/local/lib/python3.7/dist-packages (from nbformat>=4.2.0->ipywidgets>=7.5.1->great_expectations==0.13) (4.9.1)\n",
            "Requirement already satisfied: six>=1.9.0 in /usr/local/lib/python3.7/dist-packages (from prompt-toolkit<2.0.0,>=1.0.4->ipython>=4.0.0->ipywidgets>=7.5.1->great_expectations==0.13) (1.15.0)\n",
            "Requirement already satisfied: wcwidth in /usr/local/lib/python3.7/dist-packages (from prompt-toolkit<2.0.0,>=1.0.4->ipython>=4.0.0->ipywidgets>=7.5.1->great_expectations==0.13) (0.2.5)\n",
            "Requirement already satisfied: idna<3,>=2.5 in /usr/local/lib/python3.7/dist-packages (from requests<2.24,>=2.20->great_expectations==0.13) (2.10)\n",
            "Requirement already satisfied: urllib3!=1.25.0,!=1.25.1,<1.26,>=1.21.1 in /usr/local/lib/python3.7/dist-packages (from requests<2.24,>=2.20->great_expectations==0.13) (1.24.3)\n",
            "Requirement already satisfied: chardet<4,>=3.0.2 in /usr/local/lib/python3.7/dist-packages (from requests<2.24,>=2.20->great_expectations==0.13) (3.0.4)\n",
            "Requirement already satisfied: certifi>=2017.4.17 in /usr/local/lib/python3.7/dist-packages (from requests<2.24,>=2.20->great_expectations==0.13) (2021.10.8)\n",
            "Requirement already satisfied: ruamel.yaml.clib>=0.2.6 in /usr/local/lib/python3.7/dist-packages (from ruamel.yaml>=0.16->great_expectations==0.13) (0.2.6)\n",
            "Requirement already satisfied: notebook>=4.4.1 in /usr/local/lib/python3.7/dist-packages (from widgetsnbextension~=3.5.0->ipywidgets>=7.5.1->great_expectations==0.13) (5.3.1)\n",
            "Requirement already satisfied: Send2Trash in /usr/local/lib/python3.7/dist-packages (from notebook>=4.4.1->widgetsnbextension~=3.5.0->ipywidgets>=7.5.1->great_expectations==0.13) (1.8.0)\n",
            "Requirement already satisfied: nbconvert in /usr/local/lib/python3.7/dist-packages (from notebook>=4.4.1->widgetsnbextension~=3.5.0->ipywidgets>=7.5.1->great_expectations==0.13) (5.6.1)\n",
            "Requirement already satisfied: terminado>=0.8.1 in /usr/local/lib/python3.7/dist-packages (from notebook>=4.4.1->widgetsnbextension~=3.5.0->ipywidgets>=7.5.1->great_expectations==0.13) (0.12.1)\n",
            "Requirement already satisfied: pyzmq>=13 in /usr/local/lib/python3.7/dist-packages (from jupyter-client->ipykernel>=4.5.1->ipywidgets>=7.5.1->great_expectations==0.13) (22.3.0)\n",
            "Requirement already satisfied: ptyprocess in /usr/local/lib/python3.7/dist-packages (from terminado>=0.8.1->notebook>=4.4.1->widgetsnbextension~=3.5.0->ipywidgets>=7.5.1->great_expectations==0.13) (0.7.0)\n",
            "Requirement already satisfied: pandocfilters>=1.4.1 in /usr/local/lib/python3.7/dist-packages (from nbconvert->notebook>=4.4.1->widgetsnbextension~=3.5.0->ipywidgets>=7.5.1->great_expectations==0.13) (1.5.0)\n",
            "Requirement already satisfied: bleach in /usr/local/lib/python3.7/dist-packages (from nbconvert->notebook>=4.4.1->widgetsnbextension~=3.5.0->ipywidgets>=7.5.1->great_expectations==0.13) (4.1.0)\n",
            "Requirement already satisfied: testpath in /usr/local/lib/python3.7/dist-packages (from nbconvert->notebook>=4.4.1->widgetsnbextension~=3.5.0->ipywidgets>=7.5.1->great_expectations==0.13) (0.5.0)\n",
            "Requirement already satisfied: defusedxml in /usr/local/lib/python3.7/dist-packages (from nbconvert->notebook>=4.4.1->widgetsnbextension~=3.5.0->ipywidgets>=7.5.1->great_expectations==0.13) (0.7.1)\n",
            "Requirement already satisfied: webencodings in /usr/local/lib/python3.7/dist-packages (from bleach->nbconvert->notebook>=4.4.1->widgetsnbextension~=3.5.0->ipywidgets>=7.5.1->great_expectations==0.13) (0.5.1)\n",
            "Requirement already satisfied: packaging in /usr/local/lib/python3.7/dist-packages (from bleach->nbconvert->notebook>=4.4.1->widgetsnbextension~=3.5.0->ipywidgets>=7.5.1->great_expectations==0.13) (21.3)\n"
          ]
        }
      ]
    },
    {
      "cell_type": "markdown",
      "source": [
        "T"
      ],
      "metadata": {
        "id": "YqG2NCCeVrF4"
      }
    },
    {
      "cell_type": "code",
      "source": [
        ""
      ],
      "metadata": {
        "id": "d0Q117-36oDx"
      },
      "execution_count": null,
      "outputs": []
    },
    {
      "cell_type": "markdown",
      "source": [
        "\n"
      ],
      "metadata": {
        "id": "d0q_Tzxl6oee"
      }
    },
    {
      "cell_type": "markdown",
      "source": [
        "Using our colab notebook, we can easily install great expectations and import the library."
      ],
      "metadata": {
        "id": "6mPyol1E60gu"
      }
    },
    {
      "cell_type": "code",
      "source": [
        "import great_expectations as ge "
      ],
      "metadata": {
        "id": "0PGAulLmsU8G"
      },
      "execution_count": 27,
      "outputs": []
    },
    {
      "cell_type": "code",
      "source": [
        "credit_data = \"/content/drive/MyDrive/datasets/datacreditos.csv\""
      ],
      "metadata": {
        "id": "FE9Ypi0cscoV"
      },
      "execution_count": 28,
      "outputs": []
    },
    {
      "cell_type": "markdown",
      "source": [
        "\n",
        "\n"
      ],
      "metadata": {
        "id": "3-403jvb7Rrt"
      }
    },
    {
      "cell_type": "markdown",
      "source": [
        "As great_expectations wraps the popular pandas library, we can read our dataset using it. "
      ],
      "metadata": {
        "id": "r6cl3wBt7nlB"
      }
    },
    {
      "cell_type": "code",
      "source": [
        "df = ge.read_csv(credit_data)"
      ],
      "metadata": {
        "id": "3wHGaRJDsiZ-"
      },
      "execution_count": 29,
      "outputs": []
    },
    {
      "cell_type": "markdown",
      "source": [
        "Dividing our dataset into two parts, we can use the 1st to create an expectation suite and 2nd to validate it. "
      ],
      "metadata": {
        "id": "F52VLlw273AS"
      }
    },
    {
      "cell_type": "code",
      "source": [
        "# df = df.sample(frac=1).reset_index(drop=True)\n",
        "half = int(len(df)/2)\n",
        "df1 = df[:half]\n",
        "df2 = df[half:]\n"
      ],
      "metadata": {
        "id": "uPrmH5a9spLf"
      },
      "execution_count": 61,
      "outputs": []
    },
    {
      "cell_type": "code",
      "source": [
        "df1.columns"
      ],
      "metadata": {
        "colab": {
          "base_uri": "https://localhost:8080/"
        },
        "id": "hELwv22l0Xvc",
        "outputId": "15cbf8d0-e97a-4e33-8476-601f7ea3c997"
      },
      "execution_count": 62,
      "outputs": [
        {
          "output_type": "execute_result",
          "data": {
            "text/plain": [
              "Index(['ID', 'Default', 'Loan_Type', 'Gender', 'Age', 'Degree', 'Income',\n",
              "       'Credit_score', 'Loan_lenght', 'Signers', 'Citizenship'],\n",
              "      dtype='object')"
            ]
          },
          "metadata": {},
          "execution_count": 62
        }
      ]
    },
    {
      "cell_type": "code",
      "source": [
        "print(df1.columns)\n",
        "columns = ['ID', 'Default', 'Loan_Type', 'Gender', 'Age', 'Degree', 'Income','Credit_score', 'Loan_lenght', 'Signers', 'Citizenship']\n",
        "df1[\"Signers\"].value_counts()"
      ],
      "metadata": {
        "colab": {
          "base_uri": "https://localhost:8080/"
        },
        "id": "e5X17MQvtEVd",
        "outputId": "4f43ddcc-24c3-417b-ed30-c3244445ecce"
      },
      "execution_count": 63,
      "outputs": [
        {
          "output_type": "stream",
          "name": "stdout",
          "text": [
            "Index(['ID', 'Default', 'Loan_Type', 'Gender', 'Age', 'Degree', 'Income',\n",
            "       'Credit_score', 'Loan_lenght', 'Signers', 'Citizenship'],\n",
            "      dtype='object')\n"
          ]
        },
        {
          "output_type": "execute_result",
          "data": {
            "text/plain": [
              "2    1963\n",
              "1     211\n",
              "Name: Signers, dtype: int64"
            ]
          },
          "metadata": {},
          "execution_count": 63
        }
      ]
    },
    {
      "cell_type": "code",
      "source": [
        "df1.head()"
      ],
      "metadata": {
        "colab": {
          "base_uri": "https://localhost:8080/",
          "height": 204
        },
        "id": "yqtw2zzNwTdj",
        "outputId": "6c69008d-9961-4f79-d680-ad87f0ded401"
      },
      "execution_count": 68,
      "outputs": [
        {
          "output_type": "execute_result",
          "data": {
            "text/html": [
              "\n",
              "  <div id=\"df-a334faa0-8f99-4c6e-a1b1-9d3397f1c408\">\n",
              "    <div class=\"colab-df-container\">\n",
              "      <div>\n",
              "<style scoped>\n",
              "    .dataframe tbody tr th:only-of-type {\n",
              "        vertical-align: middle;\n",
              "    }\n",
              "\n",
              "    .dataframe tbody tr th {\n",
              "        vertical-align: top;\n",
              "    }\n",
              "\n",
              "    .dataframe thead th {\n",
              "        text-align: right;\n",
              "    }\n",
              "</style>\n",
              "<table border=\"1\" class=\"dataframe\">\n",
              "  <thead>\n",
              "    <tr style=\"text-align: right;\">\n",
              "      <th></th>\n",
              "      <th>ID</th>\n",
              "      <th>Default</th>\n",
              "      <th>Loan_Type</th>\n",
              "      <th>Gender</th>\n",
              "      <th>Age</th>\n",
              "      <th>Degree</th>\n",
              "      <th>Income</th>\n",
              "      <th>Credit_score</th>\n",
              "      <th>Loan_lenght</th>\n",
              "      <th>Signers</th>\n",
              "      <th>Citizenship</th>\n",
              "    </tr>\n",
              "  </thead>\n",
              "  <tbody>\n",
              "    <tr>\n",
              "      <th>0</th>\n",
              "      <td>1</td>\n",
              "      <td>0</td>\n",
              "      <td>Car</td>\n",
              "      <td>Female</td>\n",
              "      <td>30</td>\n",
              "      <td>HS</td>\n",
              "      <td>114885</td>\n",
              "      <td>641</td>\n",
              "      <td>0</td>\n",
              "      <td>2</td>\n",
              "      <td>Citizen</td>\n",
              "    </tr>\n",
              "    <tr>\n",
              "      <th>1</th>\n",
              "      <td>2</td>\n",
              "      <td>0</td>\n",
              "      <td>Home</td>\n",
              "      <td>Female</td>\n",
              "      <td>43</td>\n",
              "      <td>HS</td>\n",
              "      <td>95770</td>\n",
              "      <td>534</td>\n",
              "      <td>7</td>\n",
              "      <td>2</td>\n",
              "      <td>Citizen</td>\n",
              "    </tr>\n",
              "    <tr>\n",
              "      <th>2</th>\n",
              "      <td>3</td>\n",
              "      <td>0</td>\n",
              "      <td>Home</td>\n",
              "      <td>Male</td>\n",
              "      <td>39</td>\n",
              "      <td>HS</td>\n",
              "      <td>94220</td>\n",
              "      <td>558</td>\n",
              "      <td>5</td>\n",
              "      <td>2</td>\n",
              "      <td>Citizen</td>\n",
              "    </tr>\n",
              "    <tr>\n",
              "      <th>3</th>\n",
              "      <td>4</td>\n",
              "      <td>0</td>\n",
              "      <td>Home</td>\n",
              "      <td>Male</td>\n",
              "      <td>39</td>\n",
              "      <td>College</td>\n",
              "      <td>58946</td>\n",
              "      <td>622</td>\n",
              "      <td>7</td>\n",
              "      <td>2</td>\n",
              "      <td>Citizen</td>\n",
              "    </tr>\n",
              "    <tr>\n",
              "      <th>4</th>\n",
              "      <td>5</td>\n",
              "      <td>0</td>\n",
              "      <td>Car</td>\n",
              "      <td>Female</td>\n",
              "      <td>42</td>\n",
              "      <td>HS</td>\n",
              "      <td>79754</td>\n",
              "      <td>702</td>\n",
              "      <td>2</td>\n",
              "      <td>1</td>\n",
              "      <td>Citizen</td>\n",
              "    </tr>\n",
              "  </tbody>\n",
              "</table>\n",
              "</div>\n",
              "      <button class=\"colab-df-convert\" onclick=\"convertToInteractive('df-a334faa0-8f99-4c6e-a1b1-9d3397f1c408')\"\n",
              "              title=\"Convert this dataframe to an interactive table.\"\n",
              "              style=\"display:none;\">\n",
              "        \n",
              "  <svg xmlns=\"http://www.w3.org/2000/svg\" height=\"24px\"viewBox=\"0 0 24 24\"\n",
              "       width=\"24px\">\n",
              "    <path d=\"M0 0h24v24H0V0z\" fill=\"none\"/>\n",
              "    <path d=\"M18.56 5.44l.94 2.06.94-2.06 2.06-.94-2.06-.94-.94-2.06-.94 2.06-2.06.94zm-11 1L8.5 8.5l.94-2.06 2.06-.94-2.06-.94L8.5 2.5l-.94 2.06-2.06.94zm10 10l.94 2.06.94-2.06 2.06-.94-2.06-.94-.94-2.06-.94 2.06-2.06.94z\"/><path d=\"M17.41 7.96l-1.37-1.37c-.4-.4-.92-.59-1.43-.59-.52 0-1.04.2-1.43.59L10.3 9.45l-7.72 7.72c-.78.78-.78 2.05 0 2.83L4 21.41c.39.39.9.59 1.41.59.51 0 1.02-.2 1.41-.59l7.78-7.78 2.81-2.81c.8-.78.8-2.07 0-2.86zM5.41 20L4 18.59l7.72-7.72 1.47 1.35L5.41 20z\"/>\n",
              "  </svg>\n",
              "      </button>\n",
              "      \n",
              "  <style>\n",
              "    .colab-df-container {\n",
              "      display:flex;\n",
              "      flex-wrap:wrap;\n",
              "      gap: 12px;\n",
              "    }\n",
              "\n",
              "    .colab-df-convert {\n",
              "      background-color: #E8F0FE;\n",
              "      border: none;\n",
              "      border-radius: 50%;\n",
              "      cursor: pointer;\n",
              "      display: none;\n",
              "      fill: #1967D2;\n",
              "      height: 32px;\n",
              "      padding: 0 0 0 0;\n",
              "      width: 32px;\n",
              "    }\n",
              "\n",
              "    .colab-df-convert:hover {\n",
              "      background-color: #E2EBFA;\n",
              "      box-shadow: 0px 1px 2px rgba(60, 64, 67, 0.3), 0px 1px 3px 1px rgba(60, 64, 67, 0.15);\n",
              "      fill: #174EA6;\n",
              "    }\n",
              "\n",
              "    [theme=dark] .colab-df-convert {\n",
              "      background-color: #3B4455;\n",
              "      fill: #D2E3FC;\n",
              "    }\n",
              "\n",
              "    [theme=dark] .colab-df-convert:hover {\n",
              "      background-color: #434B5C;\n",
              "      box-shadow: 0px 1px 3px 1px rgba(0, 0, 0, 0.15);\n",
              "      filter: drop-shadow(0px 1px 2px rgba(0, 0, 0, 0.3));\n",
              "      fill: #FFFFFF;\n",
              "    }\n",
              "  </style>\n",
              "\n",
              "      <script>\n",
              "        const buttonEl =\n",
              "          document.querySelector('#df-a334faa0-8f99-4c6e-a1b1-9d3397f1c408 button.colab-df-convert');\n",
              "        buttonEl.style.display =\n",
              "          google.colab.kernel.accessAllowed ? 'block' : 'none';\n",
              "\n",
              "        async function convertToInteractive(key) {\n",
              "          const element = document.querySelector('#df-a334faa0-8f99-4c6e-a1b1-9d3397f1c408');\n",
              "          const dataTable =\n",
              "            await google.colab.kernel.invokeFunction('convertToInteractive',\n",
              "                                                     [key], {});\n",
              "          if (!dataTable) return;\n",
              "\n",
              "          const docLinkHtml = 'Like what you see? Visit the ' +\n",
              "            '<a target=\"_blank\" href=https://colab.research.google.com/notebooks/data_table.ipynb>data table notebook</a>'\n",
              "            + ' to learn more about interactive tables.';\n",
              "          element.innerHTML = '';\n",
              "          dataTable['output_type'] = 'display_data';\n",
              "          await google.colab.output.renderOutput(dataTable, element);\n",
              "          const docLink = document.createElement('div');\n",
              "          docLink.innerHTML = docLinkHtml;\n",
              "          element.appendChild(docLink);\n",
              "        }\n",
              "      </script>\n",
              "    </div>\n",
              "  </div>\n",
              "  "
            ],
            "text/plain": [
              "   ID  Default Loan_Type  ... Loan_lenght  Signers  Citizenship\n",
              "0   1        0      Car   ...           0        2  Citizen    \n",
              "1   2        0      Home  ...           7        2  Citizen    \n",
              "2   3        0      Home  ...           5        2  Citizen    \n",
              "3   4        0      Home  ...           7        2  Citizen    \n",
              "4   5        0      Car   ...           2        1  Citizen    \n",
              "\n",
              "[5 rows x 11 columns]"
            ]
          },
          "metadata": {},
          "execution_count": 68
        }
      ]
    },
    {
      "cell_type": "code",
      "source": [
        "df1[\"Credit_score\"].value_counts()"
      ],
      "metadata": {
        "id": "OynFqhI09JOK",
        "outputId": "d5b63a9b-3d22-4396-ef4c-dab3abce4fef",
        "colab": {
          "base_uri": "https://localhost:8080/"
        }
      },
      "execution_count": 74,
      "outputs": [
        {
          "output_type": "execute_result",
          "data": {
            "text/plain": [
              "625    27\n",
              "590    23\n",
              "631    20\n",
              "632    19\n",
              "585    18\n",
              "       ..\n",
              "459     1\n",
              "463     1\n",
              "467     1\n",
              "469     1\n",
              "442     1\n",
              "Name: Credit_score, Length: 316, dtype: int64"
            ]
          },
          "metadata": {},
          "execution_count": 74
        }
      ]
    },
    {
      "cell_type": "code",
      "source": [
        "for col in df1.columns:\n",
        "  df1.expect_column_to_exist(col)\n",
        "# columns_critical = [\"ID\",\"Credit_score\", \"Loan_Type\", \"Default\"]\n",
        "# for col in columns_critical:\n",
        "#   df1.expect_column_to_exist(col)\n",
        "# df1.expect_column_values_to_be_between(\"Age\",8,80)\n",
        "# df1.expect_column_to_exist(\"ID\")\n",
        "# df1.expect_column_to_exist(\"Credit_score\")\n",
        "#null value -> Id , Income, Age, credit score \n",
        "#expect column to be between -> \n",
        "# datatype \n",
        "# expect_column_values_to_be_of_type()\n",
        "# df1.expect_column_to_exist()\n",
        "# df1.expect_compound_columns_to_be_unique(\"\")\n",
        "# df1.expect_column_values_to_not_be_null(\"\")\n",
        "# loan_type = [\"Car\",\"Home\"]\n",
        "# df1.expect_column_values_to_be_in_set(\"Loan_Type\", loan_type)\n",
        "# df1.expect_column_values_to_be_in_set(\"Gender\",[\"Female\",\"Male\"])\n",
        "# df1.expect_column_values_to_be_in_set(\"Default\",[0,1])\n",
        "df1.get_expectation_suite()"
      ],
      "metadata": {
        "colab": {
          "base_uri": "https://localhost:8080/"
        },
        "id": "bfLD-u08thpS",
        "outputId": "f5d9acc2-30a5-40d4-9515-c36038b683ab"
      },
      "execution_count": 73,
      "outputs": [
        {
          "output_type": "execute_result",
          "data": {
            "text/plain": [
              "{\n",
              "  \"data_asset_type\": \"Dataset\",\n",
              "  \"expectations\": [\n",
              "    {\n",
              "      \"expectation_type\": \"expect_column_to_exist\",\n",
              "      \"meta\": {},\n",
              "      \"kwargs\": {\n",
              "        \"column\": \"ID\"\n",
              "      }\n",
              "    },\n",
              "    {\n",
              "      \"expectation_type\": \"expect_column_to_exist\",\n",
              "      \"meta\": {},\n",
              "      \"kwargs\": {\n",
              "        \"column\": \"Credit_score\"\n",
              "      }\n",
              "    },\n",
              "    {\n",
              "      \"expectation_type\": \"expect_column_to_exist\",\n",
              "      \"meta\": {},\n",
              "      \"kwargs\": {\n",
              "        \"column\": \"Loan_Type\"\n",
              "      }\n",
              "    },\n",
              "    {\n",
              "      \"expectation_type\": \"expect_column_to_exist\",\n",
              "      \"meta\": {},\n",
              "      \"kwargs\": {\n",
              "        \"column\": \"Default\"\n",
              "      }\n",
              "    },\n",
              "    {\n",
              "      \"expectation_type\": \"expect_column_values_to_be_between\",\n",
              "      \"meta\": {},\n",
              "      \"kwargs\": {\n",
              "        \"column\": \"Age\",\n",
              "        \"min_value\": 8,\n",
              "        \"max_value\": 80\n",
              "      }\n",
              "    },\n",
              "    {\n",
              "      \"expectation_type\": \"expect_column_to_exist\",\n",
              "      \"meta\": {},\n",
              "      \"kwargs\": {\n",
              "        \"column\": \"Gender\"\n",
              "      }\n",
              "    },\n",
              "    {\n",
              "      \"expectation_type\": \"expect_column_to_exist\",\n",
              "      \"meta\": {},\n",
              "      \"kwargs\": {\n",
              "        \"column\": \"Age\"\n",
              "      }\n",
              "    },\n",
              "    {\n",
              "      \"expectation_type\": \"expect_column_to_exist\",\n",
              "      \"meta\": {},\n",
              "      \"kwargs\": {\n",
              "        \"column\": \"Degree\"\n",
              "      }\n",
              "    },\n",
              "    {\n",
              "      \"expectation_type\": \"expect_column_to_exist\",\n",
              "      \"meta\": {},\n",
              "      \"kwargs\": {\n",
              "        \"column\": \"Income\"\n",
              "      }\n",
              "    },\n",
              "    {\n",
              "      \"expectation_type\": \"expect_column_to_exist\",\n",
              "      \"meta\": {},\n",
              "      \"kwargs\": {\n",
              "        \"column\": \"Loan_lenght\"\n",
              "      }\n",
              "    },\n",
              "    {\n",
              "      \"expectation_type\": \"expect_column_to_exist\",\n",
              "      \"meta\": {},\n",
              "      \"kwargs\": {\n",
              "        \"column\": \"Signers\"\n",
              "      }\n",
              "    },\n",
              "    {\n",
              "      \"expectation_type\": \"expect_column_to_exist\",\n",
              "      \"meta\": {},\n",
              "      \"kwargs\": {\n",
              "        \"column\": \"Citizenship\"\n",
              "      }\n",
              "    }\n",
              "  ],\n",
              "  \"meta\": {\n",
              "    \"great_expectations_version\": \"0.13.0\"\n",
              "  },\n",
              "  \"expectation_suite_name\": \"default\"\n",
              "}"
            ]
          },
          "metadata": {},
          "execution_count": 73
        }
      ]
    },
    {
      "cell_type": "code",
      "source": [
        ""
      ],
      "metadata": {
        "id": "9BBQ4Ggu9INA"
      },
      "execution_count": null,
      "outputs": []
    },
    {
      "cell_type": "code",
      "source": [
        "\n",
        "df1.save_expectation_suite('some_expectations.json')"
      ],
      "metadata": {
        "id": "PnbYIaI5tzC1"
      },
      "execution_count": 39,
      "outputs": []
    },
    {
      "cell_type": "code",
      "source": [
        "df2.validate(expectation_suite='some_expectations.json', only_return_failures=True)"
      ],
      "metadata": {
        "id": "DPUbpFfMt3_v",
        "colab": {
          "base_uri": "https://localhost:8080/"
        },
        "outputId": "81670179-5878-465d-9c21-620d2d578486"
      },
      "execution_count": 40,
      "outputs": [
        {
          "output_type": "execute_result",
          "data": {
            "text/plain": [
              "{\n",
              "  \"statistics\": {\n",
              "    \"evaluated_expectations\": 12,\n",
              "    \"successful_expectations\": 12,\n",
              "    \"unsuccessful_expectations\": 0,\n",
              "    \"success_percent\": 100.0\n",
              "  },\n",
              "  \"evaluation_parameters\": {},\n",
              "  \"results\": [\n",
              "    {\n",
              "      \"expectation_config\": {\n",
              "        \"expectation_type\": \"expect_column_to_exist\",\n",
              "        \"meta\": {},\n",
              "        \"kwargs\": {\n",
              "          \"column\": \"ID\"\n",
              "        }\n",
              "      },\n",
              "      \"exception_info\": {\n",
              "        \"raised_exception\": false,\n",
              "        \"exception_message\": null,\n",
              "        \"exception_traceback\": null\n",
              "      },\n",
              "      \"result\": {},\n",
              "      \"meta\": {},\n",
              "      \"success\": true\n",
              "    },\n",
              "    {\n",
              "      \"expectation_config\": {\n",
              "        \"expectation_type\": \"expect_column_to_exist\",\n",
              "        \"meta\": {},\n",
              "        \"kwargs\": {\n",
              "          \"column\": \"Default\"\n",
              "        }\n",
              "      },\n",
              "      \"exception_info\": {\n",
              "        \"raised_exception\": false,\n",
              "        \"exception_message\": null,\n",
              "        \"exception_traceback\": null\n",
              "      },\n",
              "      \"result\": {},\n",
              "      \"meta\": {},\n",
              "      \"success\": true\n",
              "    },\n",
              "    {\n",
              "      \"expectation_config\": {\n",
              "        \"expectation_type\": \"expect_column_values_to_be_in_set\",\n",
              "        \"meta\": {},\n",
              "        \"kwargs\": {\n",
              "          \"column\": \"Default\",\n",
              "          \"value_set\": [\n",
              "            0,\n",
              "            1\n",
              "          ]\n",
              "        }\n",
              "      },\n",
              "      \"exception_info\": {\n",
              "        \"raised_exception\": false,\n",
              "        \"exception_message\": null,\n",
              "        \"exception_traceback\": null\n",
              "      },\n",
              "      \"result\": {\n",
              "        \"element_count\": 2174,\n",
              "        \"missing_count\": 0,\n",
              "        \"missing_percent\": 0.0,\n",
              "        \"unexpected_count\": 0,\n",
              "        \"unexpected_percent\": 0.0,\n",
              "        \"unexpected_percent_nonmissing\": 0.0,\n",
              "        \"partial_unexpected_list\": []\n",
              "      },\n",
              "      \"meta\": {},\n",
              "      \"success\": true\n",
              "    },\n",
              "    {\n",
              "      \"expectation_config\": {\n",
              "        \"expectation_type\": \"expect_column_to_exist\",\n",
              "        \"meta\": {},\n",
              "        \"kwargs\": {\n",
              "          \"column\": \"Loan_Type\"\n",
              "        }\n",
              "      },\n",
              "      \"exception_info\": {\n",
              "        \"raised_exception\": false,\n",
              "        \"exception_message\": null,\n",
              "        \"exception_traceback\": null\n",
              "      },\n",
              "      \"result\": {},\n",
              "      \"meta\": {},\n",
              "      \"success\": true\n",
              "    },\n",
              "    {\n",
              "      \"expectation_config\": {\n",
              "        \"expectation_type\": \"expect_column_to_exist\",\n",
              "        \"meta\": {},\n",
              "        \"kwargs\": {\n",
              "          \"column\": \"Gender\"\n",
              "        }\n",
              "      },\n",
              "      \"exception_info\": {\n",
              "        \"raised_exception\": false,\n",
              "        \"exception_message\": null,\n",
              "        \"exception_traceback\": null\n",
              "      },\n",
              "      \"result\": {},\n",
              "      \"meta\": {},\n",
              "      \"success\": true\n",
              "    },\n",
              "    {\n",
              "      \"expectation_config\": {\n",
              "        \"expectation_type\": \"expect_column_to_exist\",\n",
              "        \"meta\": {},\n",
              "        \"kwargs\": {\n",
              "          \"column\": \"Age\"\n",
              "        }\n",
              "      },\n",
              "      \"exception_info\": {\n",
              "        \"raised_exception\": false,\n",
              "        \"exception_message\": null,\n",
              "        \"exception_traceback\": null\n",
              "      },\n",
              "      \"result\": {},\n",
              "      \"meta\": {},\n",
              "      \"success\": true\n",
              "    },\n",
              "    {\n",
              "      \"expectation_config\": {\n",
              "        \"expectation_type\": \"expect_column_to_exist\",\n",
              "        \"meta\": {},\n",
              "        \"kwargs\": {\n",
              "          \"column\": \"Degree\"\n",
              "        }\n",
              "      },\n",
              "      \"exception_info\": {\n",
              "        \"raised_exception\": false,\n",
              "        \"exception_message\": null,\n",
              "        \"exception_traceback\": null\n",
              "      },\n",
              "      \"result\": {},\n",
              "      \"meta\": {},\n",
              "      \"success\": true\n",
              "    },\n",
              "    {\n",
              "      \"expectation_config\": {\n",
              "        \"expectation_type\": \"expect_column_to_exist\",\n",
              "        \"meta\": {},\n",
              "        \"kwargs\": {\n",
              "          \"column\": \"Income\"\n",
              "        }\n",
              "      },\n",
              "      \"exception_info\": {\n",
              "        \"raised_exception\": false,\n",
              "        \"exception_message\": null,\n",
              "        \"exception_traceback\": null\n",
              "      },\n",
              "      \"result\": {},\n",
              "      \"meta\": {},\n",
              "      \"success\": true\n",
              "    },\n",
              "    {\n",
              "      \"expectation_config\": {\n",
              "        \"expectation_type\": \"expect_column_to_exist\",\n",
              "        \"meta\": {},\n",
              "        \"kwargs\": {\n",
              "          \"column\": \"Credit_score\"\n",
              "        }\n",
              "      },\n",
              "      \"exception_info\": {\n",
              "        \"raised_exception\": false,\n",
              "        \"exception_message\": null,\n",
              "        \"exception_traceback\": null\n",
              "      },\n",
              "      \"result\": {},\n",
              "      \"meta\": {},\n",
              "      \"success\": true\n",
              "    },\n",
              "    {\n",
              "      \"expectation_config\": {\n",
              "        \"expectation_type\": \"expect_column_to_exist\",\n",
              "        \"meta\": {},\n",
              "        \"kwargs\": {\n",
              "          \"column\": \"Loan_lenght\"\n",
              "        }\n",
              "      },\n",
              "      \"exception_info\": {\n",
              "        \"raised_exception\": false,\n",
              "        \"exception_message\": null,\n",
              "        \"exception_traceback\": null\n",
              "      },\n",
              "      \"result\": {},\n",
              "      \"meta\": {},\n",
              "      \"success\": true\n",
              "    },\n",
              "    {\n",
              "      \"expectation_config\": {\n",
              "        \"expectation_type\": \"expect_column_to_exist\",\n",
              "        \"meta\": {},\n",
              "        \"kwargs\": {\n",
              "          \"column\": \"Signers\"\n",
              "        }\n",
              "      },\n",
              "      \"exception_info\": {\n",
              "        \"raised_exception\": false,\n",
              "        \"exception_message\": null,\n",
              "        \"exception_traceback\": null\n",
              "      },\n",
              "      \"result\": {},\n",
              "      \"meta\": {},\n",
              "      \"success\": true\n",
              "    },\n",
              "    {\n",
              "      \"expectation_config\": {\n",
              "        \"expectation_type\": \"expect_column_to_exist\",\n",
              "        \"meta\": {},\n",
              "        \"kwargs\": {\n",
              "          \"column\": \"Citizenship\"\n",
              "        }\n",
              "      },\n",
              "      \"exception_info\": {\n",
              "        \"raised_exception\": false,\n",
              "        \"exception_message\": null,\n",
              "        \"exception_traceback\": null\n",
              "      },\n",
              "      \"result\": {},\n",
              "      \"meta\": {},\n",
              "      \"success\": true\n",
              "    }\n",
              "  ],\n",
              "  \"meta\": {\n",
              "    \"great_expectations_version\": \"0.13.0\",\n",
              "    \"expectation_suite_name\": \"default\",\n",
              "    \"run_id\": {\n",
              "      \"run_name\": null,\n",
              "      \"run_time\": \"2022-01-31T11:44:06.364598+00:00\"\n",
              "    },\n",
              "    \"batch_kwargs\": {\n",
              "      \"ge_batch_id\": \"c5bac646-8289-11ec-b0b2-0242ac1c0002\"\n",
              "    },\n",
              "    \"batch_markers\": {},\n",
              "    \"batch_parameters\": {},\n",
              "    \"validation_time\": \"20220131T114406.364515Z\"\n",
              "  },\n",
              "  \"success\": true\n",
              "}"
            ]
          },
          "metadata": {},
          "execution_count": 40
        }
      ]
    },
    {
      "cell_type": "code",
      "source": [
        "df2_missing = df2.drop(columns=['Loan_Type'])\n",
        "df2_missing.validate(expectation_suite='some_expectations.json', only_return_failures=True)"
      ],
      "metadata": {
        "id": "1mvPrrGk8XF4",
        "outputId": "3535d5f7-dd43-472a-decf-7126d306b4ec",
        "colab": {
          "base_uri": "https://localhost:8080/"
        }
      },
      "execution_count": 41,
      "outputs": [
        {
          "output_type": "execute_result",
          "data": {
            "text/plain": [
              "{\n",
              "  \"statistics\": {\n",
              "    \"evaluated_expectations\": 12,\n",
              "    \"successful_expectations\": 11,\n",
              "    \"unsuccessful_expectations\": 1,\n",
              "    \"success_percent\": 91.66666666666666\n",
              "  },\n",
              "  \"evaluation_parameters\": {},\n",
              "  \"results\": [\n",
              "    {\n",
              "      \"expectation_config\": {\n",
              "        \"expectation_type\": \"expect_column_to_exist\",\n",
              "        \"meta\": {},\n",
              "        \"kwargs\": {\n",
              "          \"column\": \"Loan_Type\"\n",
              "        }\n",
              "      },\n",
              "      \"exception_info\": {\n",
              "        \"raised_exception\": false,\n",
              "        \"exception_message\": null,\n",
              "        \"exception_traceback\": null\n",
              "      },\n",
              "      \"result\": {},\n",
              "      \"meta\": {},\n",
              "      \"success\": false\n",
              "    }\n",
              "  ],\n",
              "  \"meta\": {\n",
              "    \"great_expectations_version\": \"0.13.0\",\n",
              "    \"expectation_suite_name\": \"default\",\n",
              "    \"run_id\": {\n",
              "      \"run_name\": null,\n",
              "      \"run_time\": \"2022-01-31T11:44:10.182829+00:00\"\n",
              "    },\n",
              "    \"batch_kwargs\": {\n",
              "      \"ge_batch_id\": \"1ab5b20e-828b-11ec-b0b2-0242ac1c0002\"\n",
              "    },\n",
              "    \"batch_markers\": {},\n",
              "    \"batch_parameters\": {},\n",
              "    \"validation_time\": \"20220131T114410.182773Z\"\n",
              "  },\n",
              "  \"success\": false\n",
              "}"
            ]
          },
          "metadata": {},
          "execution_count": 41
        }
      ]
    },
    {
      "cell_type": "code",
      "source": [
        ""
      ],
      "metadata": {
        "id": "tiQcjXXu8ipA"
      },
      "execution_count": null,
      "outputs": []
    }
  ]
}